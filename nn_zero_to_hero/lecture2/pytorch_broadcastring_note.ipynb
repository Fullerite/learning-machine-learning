{
 "cells": [
  {
   "cell_type": "code",
   "execution_count": 1,
   "metadata": {},
   "outputs": [],
   "source": [
    "import torch\n",
    "import numpy as np"
   ]
  },
  {
   "cell_type": "code",
   "execution_count": 2,
   "metadata": {},
   "outputs": [
    {
     "data": {
      "text/plain": [
       "tensor([[11., 11.,  1.],\n",
       "        [ 7., 13.,  2.],\n",
       "        [ 4.,  3.,  5.]])"
      ]
     },
     "execution_count": 2,
     "metadata": {},
     "output_type": "execute_result"
    }
   ],
   "source": [
    "t = torch.zeros((3,3))\n",
    "for i in range(3):\n",
    "    for j in range(3):\n",
    "        t[i,j] = np.random.randint(1, 16)\n",
    "t"
   ]
  },
  {
   "cell_type": "code",
   "execution_count": 3,
   "metadata": {},
   "outputs": [
    {
     "data": {
      "text/plain": [
       "tensor([23., 22., 12.])"
      ]
     },
     "execution_count": 3,
     "metadata": {},
     "output_type": "execute_result"
    }
   ],
   "source": [
    "s = t.sum(1)\n",
    "s"
   ]
  },
  {
   "cell_type": "code",
   "execution_count": 4,
   "metadata": {},
   "outputs": [
    {
     "data": {
      "text/plain": [
       "torch.Size([3])"
      ]
     },
     "execution_count": 4,
     "metadata": {},
     "output_type": "execute_result"
    }
   ],
   "source": [
    "s.shape"
   ]
  },
  {
   "cell_type": "code",
   "execution_count": 5,
   "metadata": {},
   "outputs": [
    {
     "data": {
      "text/plain": [
       "tensor([[0.4783, 0.5000, 0.0833],\n",
       "        [0.3043, 0.5909, 0.1667],\n",
       "        [0.1739, 0.1364, 0.4167]])"
      ]
     },
     "execution_count": 5,
     "metadata": {},
     "output_type": "execute_result"
    }
   ],
   "source": [
    "o = t / s\n",
    "o"
   ]
  },
  {
   "cell_type": "markdown",
   "metadata": {},
   "source": [
    "According to [broadcastring semantics](https://pytorch.org/docs/stable/notes/broadcasting.html), `o = t / s` undergoes the following steps:\n",
    "1. `t / s`, from the shape perspective, is `[3,3] / [3]`. The dimensions are aligned to start at the trailing dimension, so it becomes<br> `[3,3] / [NonExistent, 3]`, which is valid for broadcasting. The non-existent dimension is converted to 1, so it becomes `[3,3] / [1,3]`.\n",
    "2. Then the dimensions are aligned to fit together by making `s` of shape `[3,3]`. Since the non-compatible dimension was the dimension-0(rows), tensor `s` gets converted to a `[3,3]` tensor by copying and pasting the initial 1D row 3 times, i.e <br>\n",
    "$\n",
    "\\begin{bmatrix}\n",
    "21 & 30 & 32\n",
    "\\end{bmatrix}\n",
    "$\n",
    "<br>\n",
    "&emsp;&emsp;&emsp;$\\downarrow$\n",
    "<br>\n",
    "$\n",
    "\\begin{bmatrix}\n",
    "21 & 30 & 32\\\\\n",
    "21 & 30 & 32\\\\\n",
    "21 & 30 & 32\n",
    "\\end{bmatrix}\n",
    "$\n",
    "3. `t` gets element-wise divided the new aligned `s`.\n",
    "\n",
    "But `s` is not being normalized, since the rows get divided by wrong values because of unforseen broadcastring operations. The result of the division is:\n",
    "\n",
    "$\n",
    "\\begin{bmatrix}\n",
    "6/21 & 7/30 & 8/32\\\\\n",
    "6/21 & 12/30 & 12/32\\\\\n",
    "14/21 & 13/30 & 5/32\n",
    "\\end{bmatrix}\n",
    "$"
   ]
  },
  {
   "cell_type": "code",
   "execution_count": 6,
   "metadata": {},
   "outputs": [
    {
     "name": "stdout",
     "output_type": "stream",
     "text": [
      "tensor(1.0616)\n",
      "tensor(1.0619)\n",
      "tensor(0.7269)\n"
     ]
    }
   ],
   "source": [
    "for i in range(3):\n",
    "    print(o[i].sum())"
   ]
  },
  {
   "cell_type": "markdown",
   "metadata": {},
   "source": [
    "This happened because `keepdim=False` by default. The `keepdim=True` squizes the dimension along which the sum was performed to 1, instead of completely reducing it.\n",
    "\n",
    "If we set `keepdim=True`, broadcasting semantics process this operation in the following way:\n",
    "1. `t / s`, from the shape perspective, is `[3,3] / [3, 1]`, which is valid for broadcasting.\n",
    "2. Since the non-compatible dimension was the dimension-1(columns), tensor `s` gets converted to a `[3,3]` tensor by copying and pasting the initial ***column*** 3 times, i.e <br>\n",
    "$\n",
    "\\begin{bmatrix}\n",
    "21\\\\\n",
    "30\\\\\n",
    "32\n",
    "\\end{bmatrix}\n",
    "$\n",
    "<br>\n",
    "&emsp;&emsp;&emsp;$\\downarrow$\n",
    "<br>\n",
    "$\n",
    "\\begin{bmatrix}\n",
    "21 & 21 & 21\\\\\n",
    "30 & 30 & 30\\\\\n",
    "32 & 32 & 32\n",
    "\\end{bmatrix}\n",
    "$\n",
    "\n",
    "\n",
    "This way, each row entry gets divided by the its respective row sum\n",
    "$\n",
    "\\begin{bmatrix}\n",
    "6/21 & 7/21 & 8/21\\\\\n",
    "6/30 & 12/30 & 12/30\\\\\n",
    "14/32 & 13/32 & 5/32\n",
    "\\end{bmatrix}\n",
    "$"
   ]
  },
  {
   "cell_type": "code",
   "execution_count": 7,
   "metadata": {},
   "outputs": [
    {
     "data": {
      "text/plain": [
       "tensor([[23.],\n",
       "        [22.],\n",
       "        [12.]])"
      ]
     },
     "execution_count": 7,
     "metadata": {},
     "output_type": "execute_result"
    }
   ],
   "source": [
    "s = t.sum(1, keepdim=True)\n",
    "s"
   ]
  },
  {
   "cell_type": "code",
   "execution_count": 8,
   "metadata": {},
   "outputs": [
    {
     "data": {
      "text/plain": [
       "torch.Size([3, 1])"
      ]
     },
     "execution_count": 8,
     "metadata": {},
     "output_type": "execute_result"
    }
   ],
   "source": [
    "s.shape"
   ]
  },
  {
   "cell_type": "code",
   "execution_count": 9,
   "metadata": {},
   "outputs": [
    {
     "data": {
      "text/plain": [
       "tensor([[0.4783, 0.4783, 0.0435],\n",
       "        [0.3182, 0.5909, 0.0909],\n",
       "        [0.3333, 0.2500, 0.4167]])"
      ]
     },
     "execution_count": 9,
     "metadata": {},
     "output_type": "execute_result"
    }
   ],
   "source": [
    "o = t / s\n",
    "o"
   ]
  },
  {
   "cell_type": "code",
   "execution_count": 10,
   "metadata": {},
   "outputs": [
    {
     "name": "stdout",
     "output_type": "stream",
     "text": [
      "tensor(1.)\n",
      "tensor(1.)\n",
      "tensor(1.)\n"
     ]
    }
   ],
   "source": [
    "for i in range(3):\n",
    "    print(o[i].sum()) # each row sums up to 1.0"
   ]
  }
 ],
 "metadata": {
  "kernelspec": {
   "display_name": "Python 3 (ipykernel)",
   "language": "python",
   "name": "python3"
  }
 },
 "nbformat": 4,
 "nbformat_minor": 2
}
